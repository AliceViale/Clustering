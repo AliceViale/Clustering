{
 "cells": [
  {
   "cell_type": "markdown",
   "id": "8e2fc256",
   "metadata": {},
   "source": [
    "BRIEF > Le directeur d'une grande chaîne de magasins fait appel à vos services pour que vous aidiez l'équipe marketing à déterminer la stratégie commerciale la meilleure. Pour ce faire, vous devez réaliser une segmentation de la clientèle , c'est à dire identifier les catégories de clients les plus à même de consommer, et comprendre leur comportements d'achats. Vous disposez d'une base de données des clients abonnés avec des informations basiques telles que :  le numéro client, l'âge, le sexe, le revenu annuel et le score de dépenses (indice de consommation de 1-100."
   ]
  },
  {
   "cell_type": "markdown",
   "id": "2e645b5d",
   "metadata": {},
   "source": [
    "I.IMPORTATION des librairies"
   ]
  },
  {
   "cell_type": "code",
   "execution_count": 1,
   "id": "5a276ef5",
   "metadata": {},
   "outputs": [],
   "source": [
    "import numpy as np \n",
    "import matplotlib.pyplot as plt \n",
    "import pandas as pd \n",
    "import scikitplot as skplt\n",
    "from sklearn import metrics\n",
    "import seaborn as sns\n",
    "from matplotlib.ticker import MultipleLocator, FormatStrFormatter\n",
    "%matplotlib inline\n",
    "from sklearn.model_selection import train_test_split\n",
    "from sklearn.tree import DecisionTreeClassifier\n",
    "from sklearn.tree import plot_tree\n",
    "from sklearn.tree import export_text\n",
    "from matplotlib import colors\n",
    "from sklearn.decomposition import PCA\n",
    "from yellowbrick.cluster import KElbowVisualizer\n",
    "from sklearn.cluster import KMeans\n",
    "from mpl_toolkits.mplot3d import Axes3D\n",
    "from sklearn.cluster import AgglomerativeClustering\n",
    "from matplotlib.colors import ListedColormap\n",
    "import warnings\n",
    "import sys\n",
    "if not sys.warnoptions:\n",
    "    warnings.simplefilter(\"ignore\")\n",
    "np.random.seed(42)"
   ]
  },
  {
   "cell_type": "markdown",
   "id": "60da9fc1",
   "metadata": {},
   "source": [
    "II.CHARGEMENT d'un dataset"
   ]
  },
  {
   "cell_type": "code",
   "execution_count": 2,
   "id": "d86503fb",
   "metadata": {},
   "outputs": [],
   "source": [
    "#CHARGEMENT d'un dataset et création du dataframe\n",
    "\n",
    "#en URL\n",
    "\n",
    "url = 'https://simplonline-v3-prod.s3.eu-west-3.amazonaws.com/media/file/csv/6b1ca02d-1c66-4783-b237-8fe0c2dea791.csv'\n",
    "df = pd.read_csv(url, index_col=0, encoding = \"ISO-8859-1\")"
   ]
  },
  {
   "cell_type": "markdown",
   "id": "ab729681",
   "metadata": {},
   "source": [
    "IV.EXPLORATION"
   ]
  },
  {
   "cell_type": "code",
   "execution_count": 3,
   "id": "9726c0a7",
   "metadata": {},
   "outputs": [
    {
     "name": "stdout",
     "output_type": "stream",
     "text": [
      "<class 'pandas.core.frame.DataFrame'>\n",
      "Int64Index: 200 entries, 1 to 200\n",
      "Data columns (total 4 columns):\n",
      " #   Column                  Non-Null Count  Dtype \n",
      "---  ------                  --------------  ----- \n",
      " 0   Gender                  200 non-null    object\n",
      " 1   Age                     200 non-null    int64 \n",
      " 2   Annual Income (k$)      200 non-null    int64 \n",
      " 3   Spending Score (1-100)  200 non-null    int64 \n",
      "dtypes: int64(3), object(1)\n",
      "memory usage: 7.8+ KB\n"
     ]
    }
   ],
   "source": [
    "df.info()"
   ]
  },
  {
   "cell_type": "markdown",
   "id": "30bc0a18",
   "metadata": {},
   "source": [
    "A priori je n'ai pas de valeurs nulles et j'ai une seule classe en object qui est le genre. Il faudra encoder.\n",
    "J'aimerais aussi savoir par la suite si j'ai des valeurs aberrantes."
   ]
  },
  {
   "cell_type": "markdown",
   "id": "9007a359",
   "metadata": {},
   "source": [
    "Spending Score: It is the score(out of 100) given to a customer by the mall authorities, based on the money spent and the behavior of the customer (source: https://towardsdatascience.com/mall-customers-segmentation-using-machine-learning-274ddf5575d5). Plus le score est élevé, plus le client est susceptible de dépenser."
   ]
  },
  {
   "cell_type": "code",
   "execution_count": 4,
   "id": "369e4820",
   "metadata": {},
   "outputs": [
    {
     "data": {
      "text/html": [
       "<div>\n",
       "<style scoped>\n",
       "    .dataframe tbody tr th:only-of-type {\n",
       "        vertical-align: middle;\n",
       "    }\n",
       "\n",
       "    .dataframe tbody tr th {\n",
       "        vertical-align: top;\n",
       "    }\n",
       "\n",
       "    .dataframe thead th {\n",
       "        text-align: right;\n",
       "    }\n",
       "</style>\n",
       "<table border=\"1\" class=\"dataframe\">\n",
       "  <thead>\n",
       "    <tr style=\"text-align: right;\">\n",
       "      <th></th>\n",
       "      <th>Gender</th>\n",
       "      <th>Age</th>\n",
       "      <th>Annual Income (k$)</th>\n",
       "      <th>Spending Score (1-100)</th>\n",
       "    </tr>\n",
       "    <tr>\n",
       "      <th>CustomerID</th>\n",
       "      <th></th>\n",
       "      <th></th>\n",
       "      <th></th>\n",
       "      <th></th>\n",
       "    </tr>\n",
       "  </thead>\n",
       "  <tbody>\n",
       "    <tr>\n",
       "      <th>1</th>\n",
       "      <td>Male</td>\n",
       "      <td>19</td>\n",
       "      <td>15</td>\n",
       "      <td>39</td>\n",
       "    </tr>\n",
       "    <tr>\n",
       "      <th>2</th>\n",
       "      <td>Male</td>\n",
       "      <td>21</td>\n",
       "      <td>15</td>\n",
       "      <td>81</td>\n",
       "    </tr>\n",
       "    <tr>\n",
       "      <th>3</th>\n",
       "      <td>Female</td>\n",
       "      <td>20</td>\n",
       "      <td>16</td>\n",
       "      <td>6</td>\n",
       "    </tr>\n",
       "    <tr>\n",
       "      <th>4</th>\n",
       "      <td>Female</td>\n",
       "      <td>23</td>\n",
       "      <td>16</td>\n",
       "      <td>77</td>\n",
       "    </tr>\n",
       "    <tr>\n",
       "      <th>5</th>\n",
       "      <td>Female</td>\n",
       "      <td>31</td>\n",
       "      <td>17</td>\n",
       "      <td>40</td>\n",
       "    </tr>\n",
       "  </tbody>\n",
       "</table>\n",
       "</div>"
      ],
      "text/plain": [
       "            Gender  Age  Annual Income (k$)  Spending Score (1-100)\n",
       "CustomerID                                                         \n",
       "1             Male   19                  15                      39\n",
       "2             Male   21                  15                      81\n",
       "3           Female   20                  16                       6\n",
       "4           Female   23                  16                      77\n",
       "5           Female   31                  17                      40"
      ]
     },
     "execution_count": 4,
     "metadata": {},
     "output_type": "execute_result"
    }
   ],
   "source": [
    "df.head()"
   ]
  },
  {
   "cell_type": "code",
   "execution_count": 5,
   "id": "dbc8326b",
   "metadata": {},
   "outputs": [
    {
     "data": {
      "text/html": [
       "<div>\n",
       "<style scoped>\n",
       "    .dataframe tbody tr th:only-of-type {\n",
       "        vertical-align: middle;\n",
       "    }\n",
       "\n",
       "    .dataframe tbody tr th {\n",
       "        vertical-align: top;\n",
       "    }\n",
       "\n",
       "    .dataframe thead th {\n",
       "        text-align: right;\n",
       "    }\n",
       "</style>\n",
       "<table border=\"1\" class=\"dataframe\">\n",
       "  <thead>\n",
       "    <tr style=\"text-align: right;\">\n",
       "      <th></th>\n",
       "      <th>Age</th>\n",
       "      <th>Annual Income (k$)</th>\n",
       "      <th>Spending Score (1-100)</th>\n",
       "    </tr>\n",
       "  </thead>\n",
       "  <tbody>\n",
       "    <tr>\n",
       "      <th>count</th>\n",
       "      <td>200.000000</td>\n",
       "      <td>200.000000</td>\n",
       "      <td>200.000000</td>\n",
       "    </tr>\n",
       "    <tr>\n",
       "      <th>mean</th>\n",
       "      <td>38.850000</td>\n",
       "      <td>60.560000</td>\n",
       "      <td>50.200000</td>\n",
       "    </tr>\n",
       "    <tr>\n",
       "      <th>std</th>\n",
       "      <td>13.969007</td>\n",
       "      <td>26.264721</td>\n",
       "      <td>25.823522</td>\n",
       "    </tr>\n",
       "    <tr>\n",
       "      <th>min</th>\n",
       "      <td>18.000000</td>\n",
       "      <td>15.000000</td>\n",
       "      <td>1.000000</td>\n",
       "    </tr>\n",
       "    <tr>\n",
       "      <th>25%</th>\n",
       "      <td>28.750000</td>\n",
       "      <td>41.500000</td>\n",
       "      <td>34.750000</td>\n",
       "    </tr>\n",
       "    <tr>\n",
       "      <th>50%</th>\n",
       "      <td>36.000000</td>\n",
       "      <td>61.500000</td>\n",
       "      <td>50.000000</td>\n",
       "    </tr>\n",
       "    <tr>\n",
       "      <th>75%</th>\n",
       "      <td>49.000000</td>\n",
       "      <td>78.000000</td>\n",
       "      <td>73.000000</td>\n",
       "    </tr>\n",
       "    <tr>\n",
       "      <th>max</th>\n",
       "      <td>70.000000</td>\n",
       "      <td>137.000000</td>\n",
       "      <td>99.000000</td>\n",
       "    </tr>\n",
       "  </tbody>\n",
       "</table>\n",
       "</div>"
      ],
      "text/plain": [
       "              Age  Annual Income (k$)  Spending Score (1-100)\n",
       "count  200.000000          200.000000              200.000000\n",
       "mean    38.850000           60.560000               50.200000\n",
       "std     13.969007           26.264721               25.823522\n",
       "min     18.000000           15.000000                1.000000\n",
       "25%     28.750000           41.500000               34.750000\n",
       "50%     36.000000           61.500000               50.000000\n",
       "75%     49.000000           78.000000               73.000000\n",
       "max     70.000000          137.000000               99.000000"
      ]
     },
     "execution_count": 5,
     "metadata": {},
     "output_type": "execute_result"
    }
   ],
   "source": [
    "# La fonction .describe() nous donne une vision d'ensemble (statistiques) pour chaque colonne\n",
    "df.describe()"
   ]
  },
  {
   "cell_type": "markdown",
   "id": "1d5d0c0d",
   "metadata": {},
   "source": [
    "count: compte le nombre de valeurs non nulles dans le dataset. \n",
    "mean: valeur moyenne.\n",
    "std: 'standard deviation', écart type, indicateur statistique mesurant la dispersion des valeurs d'un échantillon autour de la moyenne.\n",
    "min: valeur minimum.\n",
    "25%: premier quartile 1/4( ou centile 25%) représente 25% des valeurs de l'échantillon. \n",
    "50%: La médiane est la valeur centrale d'une série statistique dont les valeurs observées ont été ordonnées.\n",
    "75%: troisième quartile 3/4 (ou centile 75%) représente 75% des valeurs de l'échantillon.\n",
    "max: valeur maximum."
   ]
  },
  {
   "cell_type": "markdown",
   "id": "d6288f46",
   "metadata": {},
   "source": [
    "L'âge minimum et maximum me montrent que je n'ai pas de valeur aberrante concernant l'âge. \n",
    "Idem pour les autres colonnes.\n",
    "L'âge minimum à 18 ans me semble ignorer la tranche d'âge adolescente de moins de 18 ans qui représente pourtant un pouvoir d'achat. "
   ]
  },
  {
   "cell_type": "code",
   "execution_count": 6,
   "id": "1d16144e",
   "metadata": {},
   "outputs": [
    {
     "data": {
      "text/plain": [
       "Female    112\n",
       "Male       88\n",
       "Name: Gender, dtype: int64"
      ]
     },
     "execution_count": 6,
     "metadata": {},
     "output_type": "execute_result"
    }
   ],
   "source": [
    "#Avant d'encoder le genre je vérifie le nombre de valeurs uniques\n",
    "\n",
    "df['Gender'].value_counts()"
   ]
  },
  {
   "cell_type": "markdown",
   "id": "05d2dd5d",
   "metadata": {},
   "source": [
    "Les hommes sont moins représentés que les femmes."
   ]
  },
  {
   "cell_type": "code",
   "execution_count": 7,
   "id": "604e1dfe",
   "metadata": {},
   "outputs": [],
   "source": [
    "#J'encode le genre avec getdummies pour obtenir un encodage binaire qui corresponde aux deux valeurs trouvées ci-dessus\n",
    "\n",
    "df = pd.get_dummies(df, columns = ['Gender'], prefix = ['Gender'])\n",
    "\n",
    "\n",
    "\n"
   ]
  },
  {
   "cell_type": "code",
   "execution_count": 8,
   "id": "0519c7eb",
   "metadata": {},
   "outputs": [
    {
     "data": {
      "text/html": [
       "<div>\n",
       "<style scoped>\n",
       "    .dataframe tbody tr th:only-of-type {\n",
       "        vertical-align: middle;\n",
       "    }\n",
       "\n",
       "    .dataframe tbody tr th {\n",
       "        vertical-align: top;\n",
       "    }\n",
       "\n",
       "    .dataframe thead th {\n",
       "        text-align: right;\n",
       "    }\n",
       "</style>\n",
       "<table border=\"1\" class=\"dataframe\">\n",
       "  <thead>\n",
       "    <tr style=\"text-align: right;\">\n",
       "      <th></th>\n",
       "      <th>Age</th>\n",
       "      <th>Annual Income (k$)</th>\n",
       "      <th>Spending Score (1-100)</th>\n",
       "      <th>Gender_Female</th>\n",
       "      <th>Gender_Male</th>\n",
       "    </tr>\n",
       "    <tr>\n",
       "      <th>CustomerID</th>\n",
       "      <th></th>\n",
       "      <th></th>\n",
       "      <th></th>\n",
       "      <th></th>\n",
       "      <th></th>\n",
       "    </tr>\n",
       "  </thead>\n",
       "  <tbody>\n",
       "    <tr>\n",
       "      <th>1</th>\n",
       "      <td>19</td>\n",
       "      <td>15</td>\n",
       "      <td>39</td>\n",
       "      <td>0</td>\n",
       "      <td>1</td>\n",
       "    </tr>\n",
       "    <tr>\n",
       "      <th>2</th>\n",
       "      <td>21</td>\n",
       "      <td>15</td>\n",
       "      <td>81</td>\n",
       "      <td>0</td>\n",
       "      <td>1</td>\n",
       "    </tr>\n",
       "    <tr>\n",
       "      <th>3</th>\n",
       "      <td>20</td>\n",
       "      <td>16</td>\n",
       "      <td>6</td>\n",
       "      <td>1</td>\n",
       "      <td>0</td>\n",
       "    </tr>\n",
       "    <tr>\n",
       "      <th>4</th>\n",
       "      <td>23</td>\n",
       "      <td>16</td>\n",
       "      <td>77</td>\n",
       "      <td>1</td>\n",
       "      <td>0</td>\n",
       "    </tr>\n",
       "    <tr>\n",
       "      <th>5</th>\n",
       "      <td>31</td>\n",
       "      <td>17</td>\n",
       "      <td>40</td>\n",
       "      <td>1</td>\n",
       "      <td>0</td>\n",
       "    </tr>\n",
       "  </tbody>\n",
       "</table>\n",
       "</div>"
      ],
      "text/plain": [
       "            Age  Annual Income (k$)  Spending Score (1-100)  Gender_Female  \\\n",
       "CustomerID                                                                   \n",
       "1            19                  15                      39              0   \n",
       "2            21                  15                      81              0   \n",
       "3            20                  16                       6              1   \n",
       "4            23                  16                      77              1   \n",
       "5            31                  17                      40              1   \n",
       "\n",
       "            Gender_Male  \n",
       "CustomerID               \n",
       "1                     1  \n",
       "2                     1  \n",
       "3                     0  \n",
       "4                     0  \n",
       "5                     0  "
      ]
     },
     "execution_count": 8,
     "metadata": {},
     "output_type": "execute_result"
    }
   ],
   "source": [
    "#Je vérifie que cela ait fonctionné\n",
    "df.head()"
   ]
  },
  {
   "cell_type": "markdown",
   "id": "7513db1d",
   "metadata": {},
   "source": [
    "Maintenant que l'encodage est fait, je peux visualiser les corrélations entre mes variables"
   ]
  },
  {
   "cell_type": "code",
   "execution_count": 9,
   "id": "afc31207",
   "metadata": {},
   "outputs": [
    {
     "data": {
      "image/png": "[encoded data removed]",
      "text/plain": [
       "<Figure size 576x396 with 2 Axes>"
      ]
     },
     "metadata": {},
     "output_type": "display_data"
    }
   ],
   "source": [
    "#Faire une matrice de corrélation et heatmap\n",
    "##Pour lire la matrice on considère que les extrêmes -1 et 1 sont les plus proches d'une corrélation\n",
    "\n",
    "from seaborn import heatmap\n",
    "correlation_mat = df.corr()\n",
    "\n",
    "sns.heatmap(correlation_mat, annot = True)\n",
    "\n",
    "plt.show()\n"
   ]
  },
  {
   "cell_type": "markdown",
   "id": "e4059a15",
   "metadata": {},
   "source": [
    "Il n'y a pas de corrélation qui ressorte particulièrement, sauf entre l'âge et le spending score."
   ]
  },
  {
   "cell_type": "markdown",
   "id": "3d712931",
   "metadata": {},
   "source": [
    "IX.VISUALISATION DES DONNEES (et non pas du modèle)"
   ]
  },
  {
   "cell_type": "code",
   "execution_count": 10,
   "id": "d5b8e463",
   "metadata": {},
   "outputs": [
    {
     "name": "stderr",
     "output_type": "stream",
     "text": [
      "No handles with labels found to put in legend.\n"
     ]
    },
    {
     "data": {
      "image/png": "[encoded data removed]",
      "text/plain": [
       "<Figure size 1440x1440 with 6 Axes>"
      ]
     },
     "metadata": {},
     "output_type": "display_data"
    }
   ],
   "source": [
    "#tous les histo d'un coup\n",
    "df.hist(figsize=(20,20))\n",
    "plt.legend()\n",
    "plt.show()"
   ]
  },
  {
   "cell_type": "markdown",
   "id": "c9b6aeae",
   "metadata": {},
   "source": [
    "XI.CLUSTERING"
   ]
  },
  {
   "cell_type": "markdown",
   "id": "fa965764",
   "metadata": {},
   "source": [
    "J'utilise l'elbow method pour déterminer le nombre de cluster qui peuvent être formés"
   ]
  },
  {
   "cell_type": "code",
   "execution_count": 11,
   "id": "2bdf2e3b",
   "metadata": {},
   "outputs": [
    {
     "name": "stdout",
     "output_type": "stream",
     "text": [
      "Elbow Method to determine the number of clusters to be formed:\n"
     ]
    },
    {
     "data": {
      "image/png": "[encoded data removed]",
      "text/plain": [
       "<Figure size 576x396 with 2 Axes>"
      ]
     },
     "metadata": {},
     "output_type": "display_data"
    },
    {
     "data": {
      "text/plain": [
       "<AxesSubplot:title={'center':'Distortion Score Elbow for KMeans Clustering'}, xlabel='k', ylabel='distortion score'>"
      ]
     },
     "execution_count": 11,
     "metadata": {},
     "output_type": "execute_result"
    }
   ],
   "source": [
    "print('Elbow Method to determine the number of clusters to be formed:')\n",
    "Elbow_M = KElbowVisualizer(KMeans(), k=10)\n",
    "Elbow_M.fit(df)\n",
    "Elbow_M.show()"
   ]
  },
  {
   "cell_type": "markdown",
   "id": "05aeb307",
   "metadata": {},
   "source": [
    "5 sera un nombre optimal de clusters."
   ]
  },
  {
   "cell_type": "markdown",
   "id": "5aadd638",
   "metadata": {},
   "source": [
    "XII.CREATION du modèle"
   ]
  },
  {
   "cell_type": "markdown",
   "id": "9329e010",
   "metadata": {},
   "source": [
    "J'initialise et j'entraîne le modèle"
   ]
  },
  {
   "cell_type": "code",
   "execution_count": 12,
   "id": "78b64089",
   "metadata": {},
   "outputs": [],
   "source": [
    "#Initiating the Agglomerative Clustering model \n",
    "AC = AgglomerativeClustering(n_clusters=5)\n",
    "# fit model and predict clusters\n",
    "yhat_AC = AC.fit_predict(df)\n",
    "df[\"Clusters\"] = yhat_AC\n"
   ]
  },
  {
   "cell_type": "markdown",
   "id": "1728a10a",
   "metadata": {},
   "source": [
    "EVALUATION"
   ]
  },
  {
   "cell_type": "code",
   "execution_count": 13,
   "id": "3d611726",
   "metadata": {},
   "outputs": [
    {
     "data": {
      "image/png": "[encoded data removed]",
      "text/plain": [
       "<Figure size 576x396 with 1 Axes>"
      ]
     },
     "metadata": {},
     "output_type": "display_data"
    }
   ],
   "source": [
    "#Je veux voir la distribution de mes clusters\n",
    "\n",
    "pal = [\"#682F2F\",\"#B9C0C9\", \"#9F8A78\",\"#F3AB60\",\"#682F2F\"]\n",
    "pl = sns.countplot(x=df[\"Clusters\"], palette= pal)\n",
    "pl.set_title(\"Distribution Of The Clusters\")\n",
    "plt.show()"
   ]
  },
  {
   "cell_type": "markdown",
   "id": "988cb8fb",
   "metadata": {},
   "source": [
    "Les clusters semblent assez mal distribués."
   ]
  },
  {
   "cell_type": "markdown",
   "id": "22b14b8d",
   "metadata": {},
   "source": [
    "PROFILAGE"
   ]
  },
  {
   "cell_type": "code",
   "execution_count": 15,
   "id": "1073157d",
   "metadata": {},
   "outputs": [
    {
     "data": {
      "text/html": [
       "<div>\n",
       "<style scoped>\n",
       "    .dataframe tbody tr th:only-of-type {\n",
       "        vertical-align: middle;\n",
       "    }\n",
       "\n",
       "    .dataframe tbody tr th {\n",
       "        vertical-align: top;\n",
       "    }\n",
       "\n",
       "    .dataframe thead th {\n",
       "        text-align: right;\n",
       "    }\n",
       "</style>\n",
       "<table border=\"1\" class=\"dataframe\">\n",
       "  <thead>\n",
       "    <tr style=\"text-align: right;\">\n",
       "      <th></th>\n",
       "      <th>Clusters</th>\n",
       "      <th>Age</th>\n",
       "      <th>Annual Income (k$)</th>\n",
       "      <th>Spending Score (1-100)</th>\n",
       "      <th>Gender_Female</th>\n",
       "      <th>Gender_Male</th>\n",
       "    </tr>\n",
       "  </thead>\n",
       "  <tbody>\n",
       "    <tr>\n",
       "      <th>0</th>\n",
       "      <td>0</td>\n",
       "      <td>42.156627</td>\n",
       "      <td>54.759036</td>\n",
       "      <td>49.771084</td>\n",
       "      <td>0.602410</td>\n",
       "      <td>0.397590</td>\n",
       "    </tr>\n",
       "    <tr>\n",
       "      <th>1</th>\n",
       "      <td>1</td>\n",
       "      <td>41.685714</td>\n",
       "      <td>88.228571</td>\n",
       "      <td>17.285714</td>\n",
       "      <td>0.428571</td>\n",
       "      <td>0.571429</td>\n",
       "    </tr>\n",
       "    <tr>\n",
       "      <th>2</th>\n",
       "      <td>2</td>\n",
       "      <td>32.692308</td>\n",
       "      <td>86.538462</td>\n",
       "      <td>82.128205</td>\n",
       "      <td>0.538462</td>\n",
       "      <td>0.461538</td>\n",
       "    </tr>\n",
       "    <tr>\n",
       "      <th>3</th>\n",
       "      <td>3</td>\n",
       "      <td>24.850000</td>\n",
       "      <td>24.950000</td>\n",
       "      <td>81.000000</td>\n",
       "      <td>0.600000</td>\n",
       "      <td>0.400000</td>\n",
       "    </tr>\n",
       "    <tr>\n",
       "      <th>4</th>\n",
       "      <td>4</td>\n",
       "      <td>45.217391</td>\n",
       "      <td>26.304348</td>\n",
       "      <td>20.913043</td>\n",
       "      <td>0.608696</td>\n",
       "      <td>0.391304</td>\n",
       "    </tr>\n",
       "  </tbody>\n",
       "</table>\n",
       "</div>"
      ],
      "text/plain": [
       "   Clusters        Age  Annual Income (k$)  Spending Score (1-100)  \\\n",
       "0         0  42.156627           54.759036               49.771084   \n",
       "1         1  41.685714           88.228571               17.285714   \n",
       "2         2  32.692308           86.538462               82.128205   \n",
       "3         3  24.850000           24.950000               81.000000   \n",
       "4         4  45.217391           26.304348               20.913043   \n",
       "\n",
       "   Gender_Female  Gender_Male  \n",
       "0       0.602410     0.397590  \n",
       "1       0.428571     0.571429  \n",
       "2       0.538462     0.461538  \n",
       "3       0.600000     0.400000  \n",
       "4       0.608696     0.391304  "
      ]
     },
     "execution_count": 15,
     "metadata": {},
     "output_type": "execute_result"
    }
   ],
   "source": [
    "#Je vais déterminer quels sont les traits de chaque groupe de consommateurs\n",
    "\n",
    "#Avant cela, je veux connaître les valeurs moyennes de chaque cluster\n",
    "\n",
    "avg_df = df.groupby(['Clusters'], as_index=False).mean()\n",
    "avg_df"
   ]
  },
  {
   "cell_type": "code",
   "execution_count": 16,
   "id": "357de2cc",
   "metadata": {
    "scrolled": true
   },
   "outputs": [
    {
     "data": {
      "text/plain": [
       "<AxesSubplot:xlabel='Clusters', ylabel='Age'>"
      ]
     },
     "execution_count": 16,
     "metadata": {},
     "output_type": "execute_result"
    },
    {
     "data": {
      "image/png": "[encoded data removed]",
      "text/plain": [
       "<Figure size 576x396 with 1 Axes>"
      ]
     },
     "metadata": {},
     "output_type": "display_data"
    }
   ],
   "source": [
    "#Ainsi que la visualisation pour chaque cluster concernant l'âge\n",
    "sns.barplot(x='Clusters',y='Age',data=avg_df)\n"
   ]
  },
  {
   "cell_type": "code",
   "execution_count": 17,
   "id": "c4ff2121",
   "metadata": {
    "scrolled": true
   },
   "outputs": [
    {
     "data": {
      "text/plain": [
       "<AxesSubplot:xlabel='Clusters', ylabel='Spending Score (1-100)'>"
      ]
     },
     "execution_count": 17,
     "metadata": {},
     "output_type": "execute_result"
    },
    {
     "data": {
      "image/png": "[encoded data removed]",
      "text/plain": [
       "<Figure size 576x396 with 1 Axes>"
      ]
     },
     "metadata": {},
     "output_type": "display_data"
    }
   ],
   "source": [
    "#Le spending score\n",
    "sns.barplot(x='Clusters',y='Spending Score (1-100)',data=avg_df)\n"
   ]
  },
  {
   "cell_type": "code",
   "execution_count": 21,
   "id": "5c22316e",
   "metadata": {},
   "outputs": [
    {
     "data": {
      "text/plain": [
       "<AxesSubplot:xlabel='Clusters', ylabel='Annual Income (k$)'>"
      ]
     },
     "execution_count": 21,
     "metadata": {},
     "output_type": "execute_result"
    },
    {
     "data": {
      "image/png": "[encoded data removed]",
      "text/plain": [
       "<Figure size 576x396 with 1 Axes>"
      ]
     },
     "metadata": {},
     "output_type": "display_data"
    }
   ],
   "source": [
    "#Et l'annual income\n",
    "sns.barplot(x='Clusters',y='Annual Income (k$)',data=avg_df)"
   ]
  },
  {
   "cell_type": "markdown",
   "id": "8e570b25",
   "metadata": {},
   "source": [
    ">Description des clusters\n",
    "\n",
    "Cluster 0: \n",
    "*revenu annuel autour de 50K\n",
    "*spending score moyen de 50\n",
    "*âge autour de 40 ans\n",
    "*représentation nettement plus féminine\n",
    "\n",
    "Cluster 1:\n",
    "*revenu annuel le plus élevé autour de 90K\n",
    "*spending score le plus bas en dessous de 20\n",
    "*âge autour de 40 ans, sensiblement plus âgé que le cluster 0\n",
    "*une représentation plus masculine que féminine\n",
    "\n",
    "Cluster 2:\n",
    "*revenu annuel le second plus élevé,autour de 86K\n",
    "*spending score le plus élevé\n",
    "*âge autour de 30 ans\n",
    "*plus de femmes que d'hommes mais c'est le cluster le plus équilibré en terme de représentation de genre\n",
    "\n",
    "Cluster 3:\n",
    "*tranche la plus jeune, autour de 20 ans\n",
    "*spending score le second plus élevé\n",
    "*revenu annuel le plus faible, autour de 20K\n",
    "*large représentation féminine\n",
    "\n",
    "Cluster 4:\n",
    "*tranche d'âge la plus élevée, autour de 45 ans\n",
    "*des revenus presque aussi faibles que ceux de la tranche d'âge la plus jeune\n",
    "*spending score faible de 20\n",
    "*femmes beaucoup plus représentées que les hommes\n",
    "\n",
    ">Analyse\n",
    "\n",
    "Les catégories de clients qui ressortent peuvent être les suivantes:\n",
    "\n",
    "1)Les jeunes dépensiers\n",
    "Une catégorie aux faibles revenus car sûrement inactive ou ayant un premier emploi peu rémunéré. Une représentation largement féminine et représentant une grande quantité des dépenses. Le mall est un lieu d'identification et de rencontre pour cette tranche là, qui répond à ses besoins en terme de produits.\n",
    "\n",
    "2)Les trentenaires actifs\n",
    "La catégorie la moins déséquilibrée en terme de représentation de genre et avec de forts revenus. On suppose que ce sont des personnes ayant un emploi bien rémunéré, avec peu de personnes à charge et qui peuvent se permettre de dépenser.\n",
    "\n",
    "3)Les quarantenaires aisés qui dépensent peu\n",
    "Une catégorie plus masculine que féminine, qui apparemment ne considère pas le mall comme le lieu priviligié où trouver les produits qui lui correspondent.\n",
    "\n",
    "4)Les quarantenaires de classe moyenne\n",
    "Une catégorie féminine qui dépense souvent au mall. \n",
    "\n",
    ">Conclusions\n",
    "\n",
    "La tranche d'âge en dessous de 20 ans et au-dessus de 45 ans est peu représentée. On suppose que les données des mineurs n'ont pas été enregistrées, ce qui peut fausser l'analyse. Par contre il est évident que les seniors se rendent beaucoup moins au mall pour leurs achats. Les produits peuvent ne pas leur correspondre, ni les services d'accompagnement à l'achat. Les données ne nous permettent pas d'envisager leurs capacités de dépense et si un effort commercial est à faire en leur direction.\n",
    "\n",
    "La catégorie 3, possédant le plus de capacités de dépense, pourraît être attirée par des produits plus haut-de-gamme.\n",
    "\n",
    "Les jeunes dépensiers et les trentenaires actifs sont des cibles à privilégier.\n",
    "\n",
    "\n",
    "\n",
    "\n",
    "\n",
    "\n"
   ]
  }
 ],
 "metadata": {
  "kernelspec": {
   "display_name": "Python 3 (ipykernel)",
   "language": "python",
   "name": "python3"
  },
  "language_info": {
   "codemirror_mode": {
    "name": "ipython",
    "version": 3
   },
   "file_extension": ".py",
   "mimetype": "text/x-python",
   "name": "python",
   "nbconvert_exporter": "python",
   "pygments_lexer": "ipython3",
   "version": "3.9.7"
  }
 },
 "nbformat": 4,
 "nbformat_minor": 5
}
